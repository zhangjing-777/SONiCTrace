{
 "cells": [
  {
   "cell_type": "code",
   "execution_count": 1,
   "metadata": {},
   "outputs": [
    {
     "name": "stderr",
     "output_type": "stream",
     "text": [
      "/Users/zhangjing/Documents/projects_ZJ/SONiCTrace/venv/lib/python3.10/site-packages/tqdm/auto.py:21: TqdmWarning: IProgress not found. Please update jupyter and ipywidgets. See https://ipywidgets.readthedocs.io/en/stable/user_install.html\n",
      "  from .autonotebook import tqdm as notebook_tqdm\n",
      "Token indices sequence length is longer than the specified maximum sequence length for this model (672 > 512). Running this sequence through the model will result in indexing errors\n"
     ]
    },
    {
     "name": "stdout",
     "output_type": "stream",
     "text": [
      "🔍 Extracting sections ...\n",
      "✅ Extracted 1552 sections\n"
     ]
    }
   ],
   "source": [
    "from chunking import chunks_app\n",
    "from embedding import get_embedding_model\n",
    "from vector_store import insert_chunks_to_pg\n",
    "from config import AVGO_TABLE_NAME\n",
    "\n",
    "PDF_PATH = \"./SONiC-UG450_command_cli.pdf\" \n",
    "print(\"🔍 Extracting sections ...\")\n",
    "chunks = chunks_app(PDF_PATH)\n",
    "print(f\"✅ Extracted {len(chunks)} sections\")\n",
    "\n"
   ]
  },
  {
   "cell_type": "code",
   "execution_count": null,
   "metadata": {},
   "outputs": [],
   "source": [
    "chunks"
   ]
  },
  {
   "cell_type": "code",
   "execution_count": null,
   "metadata": {},
   "outputs": [],
   "source": [
    "print(\"🔄 Loading embedding model ...\")\n",
    "embed_fn = get_embedding_model()\n",
    "\n",
    "print(\"🧠 Generating embeddings and inserting into pgvector ...\")\n",
    "insert_chunks_to_pg(chunks, embed_fn, AVGO_TABLE_NAME)\n",
    "print(\"✅ All done!\")"
   ]
  },
  {
   "cell_type": "code",
   "execution_count": null,
   "metadata": {},
   "outputs": [],
   "source": [
    "from vector_store import clear_pgvector_table\n",
    "#clear_pgvector_table(AVGO_TABLE_NAME)"
   ]
  },
  {
   "cell_type": "code",
   "execution_count": 1,
   "metadata": {},
   "outputs": [
    {
     "name": "stderr",
     "output_type": "stream",
     "text": [
      "/Users/zhangjing/Documents/projects_ZJ/olaola/venv/lib/python3.10/site-packages/tqdm/auto.py:21: TqdmWarning: IProgress not found. Please update jupyter and ipywidgets. See https://ipywidgets.readthedocs.io/en/stable/user_install.html\n",
      "  from .autonotebook import tqdm as notebook_tqdm\n"
     ]
    }
   ],
   "source": [
    "from rag_pipeline import qa_chain"
   ]
  },
  {
   "cell_type": "code",
   "execution_count": 2,
   "metadata": {},
   "outputs": [
    {
     "name": "stderr",
     "output_type": "stream",
     "text": [
      "/Users/zhangjing/Documents/projects_ZJ/olaola/retriever.py:27: LangChainPendingDeprecationWarning: This class is pending deprecation and may be removed in a future version. You can swap to using the `PGVector` implementation in `langchain_postgres`. Please read the guidelines in the doc-string of this class to follow prior to migrating as there are some differences between the implementations. See <https://github.com/langchain-ai/langchain-postgres> for details about the new implementation.\n",
      "  vectorstore = PGVector(\n",
      "/Users/zhangjing/Documents/projects_ZJ/olaola/retriever.py:27: LangChainPendingDeprecationWarning: Please use JSONB instead of JSON for metadata. This change will allow for more efficient querying that involves filtering based on metadata. Please note that filtering operators have been changed when using JSONB metadata to be prefixed with a $ sign to avoid name collisions with columns. If you're using an existing database, you will need to create a db migration for your metadata column to be JSONB and update your queries to use the new operators. \n",
      "  vectorstore = PGVector(\n",
      "/var/folders/1_/vdcpqkbj60nf4sm30yfp3bgc0000gn/T/ipykernel_14971/1124327223.py:2: LangChainDeprecationWarning: The method `Chain.run` was deprecated in langchain 0.1.0 and will be removed in 1.0. Use :meth:`~invoke` instead.\n",
      "  qa_chain(AVGO_TABLE_NAME).run(\"咋配置ebgp，有没有典型配置\")\n"
     ]
    },
    {
     "data": {
      "text/plain": [
       "'To configure eBGP in SONiC, here\\'s a typical example:\\n\\n1. Enable BGP and configure global AS:\\n```\\nconfig bgp startup all\\nconfig bgp add <LOCAL_ASN>\\n```\\n\\n2. Add eBGP neighbor (remote AS and IP):\\n```\\nconfig bgp add neighbor <PEER_IP> <REMOTE_ASN>\\n```\\n\\n3. Set neighbor as eBGP peer:\\n```\\nconfig bgp neighbor <PEER_IP> update-source <LOCAL_IP>\\nconfig bgp neighbor <PEER_IP> ebgp-multihop <TTL> (if needed)\\n```\\n\\n4. Advertise networks:\\n```\\nconfig bgp add network <NETWORK_PREFIX/MASK>\\n```\\n\\n5. Optional settings:\\n```\\nconfig bgp neighbor <PEER_IP> capability extended-nexthop\\nconfig bgp neighbor <PEER_IP> activate\\n```\\n\\nNote: Replace placeholders (<>) with your actual values. For IPv6, use \"ipv6\" subcommands. Always verify with `show bgp summary` after configuration.'"
      ]
     },
     "execution_count": 2,
     "metadata": {},
     "output_type": "execute_result"
    }
   ],
   "source": [
    "from config import AVGO_TABLE_NAME\n",
    "qa_chain(AVGO_TABLE_NAME).run(\"咋配置ebgp，有没有典型配置\")"
   ]
  },
  {
   "cell_type": "code",
   "execution_count": 3,
   "metadata": {},
   "outputs": [
    {
     "name": "stdout",
     "output_type": "stream",
     "text": [
      "To configure eBGP in SONiC, here's a typical example:\n",
      "\n",
      "1. Enable BGP and configure global AS:\n",
      "```\n",
      "config bgp startup all\n",
      "config bgp add <LOCAL_ASN>\n",
      "```\n",
      "\n",
      "2. Add eBGP neighbor (remote AS and IP):\n",
      "```\n",
      "config bgp add neighbor <PEER_IP> <REMOTE_ASN>\n",
      "```\n",
      "\n",
      "3. Set neighbor as eBGP peer:\n",
      "```\n",
      "config bgp neighbor <PEER_IP> update-source <LOCAL_IP>\n",
      "config bgp neighbor <PEER_IP> ebgp-multihop <TTL> (if needed)\n",
      "```\n",
      "\n",
      "4. Advertise networks:\n",
      "```\n",
      "config bgp add network <NETWORK_PREFIX/MASK>\n",
      "```\n",
      "\n",
      "5. Optional settings:\n",
      "```\n",
      "config bgp neighbor <PEER_IP> capability extended-nexthop\n",
      "config bgp neighbor <PEER_IP> activate\n",
      "```\n",
      "\n",
      "Note: Replace placeholders (<>) with your actual values. For IPv6, use \"ipv6\" subcommands. Always verify with `show bgp summary` after configuration.\n"
     ]
    }
   ],
   "source": [
    "print('To configure eBGP in SONiC, here\\'s a typical example:\\n\\n1. Enable BGP and configure global AS:\\n```\\nconfig bgp startup all\\nconfig bgp add <LOCAL_ASN>\\n```\\n\\n2. Add eBGP neighbor (remote AS and IP):\\n```\\nconfig bgp add neighbor <PEER_IP> <REMOTE_ASN>\\n```\\n\\n3. Set neighbor as eBGP peer:\\n```\\nconfig bgp neighbor <PEER_IP> update-source <LOCAL_IP>\\nconfig bgp neighbor <PEER_IP> ebgp-multihop <TTL> (if needed)\\n```\\n\\n4. Advertise networks:\\n```\\nconfig bgp add network <NETWORK_PREFIX/MASK>\\n```\\n\\n5. Optional settings:\\n```\\nconfig bgp neighbor <PEER_IP> capability extended-nexthop\\nconfig bgp neighbor <PEER_IP> activate\\n```\\n\\nNote: Replace placeholders (<>) with your actual values. For IPv6, use \"ipv6\" subcommands. Always verify with `show bgp summary` after configuration.')"
   ]
  },
  {
   "cell_type": "code",
   "execution_count": null,
   "metadata": {},
   "outputs": [],
   "source": []
  }
 ],
 "metadata": {
  "kernelspec": {
   "display_name": "venv",
   "language": "python",
   "name": "python3"
  },
  "language_info": {
   "codemirror_mode": {
    "name": "ipython",
    "version": 3
   },
   "file_extension": ".py",
   "mimetype": "text/x-python",
   "name": "python",
   "nbconvert_exporter": "python",
   "pygments_lexer": "ipython3",
   "version": "3.10.12"
  }
 },
 "nbformat": 4,
 "nbformat_minor": 2
}
